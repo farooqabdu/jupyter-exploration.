{
 "cells": [
  {
   "cell_type": "markdown",
   "id": "a17d7b66-8008-4c8b-9c4c-36cd446a51dc",
   "metadata": {},
   "source": [
    "My first markdown cell in jupyter"
   ]
  },
  {
   "cell_type": "code",
   "execution_count": 1,
   "id": "926f349e-298c-4bb8-89b5-5488d3a52d7c",
   "metadata": {},
   "outputs": [
    {
     "name": "stdout",
     "output_type": "stream",
     "text": [
      "Hello, World!\n"
     ]
    }
   ],
   "source": [
    "print(\"Hello, World!\")"
   ]
  },
  {
   "cell_type": "code",
   "execution_count": null,
   "id": "3571e663-5ae2-4381-b16a-0207c16a0bb2",
   "metadata": {},
   "outputs": [],
   "source": []
  }
 ],
 "metadata": {
  "kernelspec": {
   "display_name": "Python 3 (ipykernel)",
   "language": "python",
   "name": "python3"
  },
  "language_info": {
   "codemirror_mode": {
    "name": "ipython",
    "version": 3
   },
   "file_extension": ".py",
   "mimetype": "text/x-python",
   "name": "python",
   "nbconvert_exporter": "python",
   "pygments_lexer": "ipython3",
   "version": "3.12.5"
  }
 },
 "nbformat": 4,
 "nbformat_minor": 5
}
